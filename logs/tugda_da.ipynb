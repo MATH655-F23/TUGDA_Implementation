{
 "cells": [
  {
   "cell_type": "code",
   "execution_count": 1,
   "id": "b5687291",
   "metadata": {},
   "outputs": [],
   "source": [
    "%notebook logs/tugda_da.ipynb"
   ]
  }
 ],
 "metadata": {},
 "nbformat": 4,
 "nbformat_minor": 5
}
